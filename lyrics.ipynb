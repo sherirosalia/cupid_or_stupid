{
 "metadata": {
  "language_info": {
   "codemirror_mode": {
    "name": "ipython",
    "version": 3
   },
   "file_extension": ".py",
   "mimetype": "text/x-python",
   "name": "python",
   "nbconvert_exporter": "python",
   "pygments_lexer": "ipython3",
   "version": "3.7.4-final"
  },
  "orig_nbformat": 2,
  "kernelspec": {
   "name": "Python 3.7.4 64-bit ('base': conda)",
   "display_name": "Python 3.7.4 64-bit ('base': conda)",
   "metadata": {
    "interpreter": {
     "hash": "f85c0ae1067a86ad6a96b144378883e79fd1516474b579ba33ee3a7084540002"
    }
   }
  }
 },
 "nbformat": 4,
 "nbformat_minor": 2,
 "cells": [
  {
   "cell_type": "code",
   "execution_count": 27,
   "metadata": {},
   "outputs": [],
   "source": [
    "import sys\n",
    "\n",
    "from operator import add\n",
    "from pyspark.sql import SparkSession\n",
    "from pyspark.ml.feature import Tokenizer\n",
    "from pyspark.ml.feature import StopWordsRemover\n",
    "import pyspark.sql.functions as f"
   ]
  },
  {
   "cell_type": "code",
   "execution_count": 45,
   "metadata": {
    "tags": []
   },
   "outputs": [
    {
     "output_type": "stream",
     "name": "stdout",
     "text": "############ JSON extract:\n+----------------+--------------------+--------------------+----------+\n|          Artist|              Lyrics|               Title|      Year|\n+----------------+--------------------+--------------------+----------+\n|Billy Currington|[Verse 1]\nThere's...|    Let Me Down Easy|2010-01-01|\n|   Blake Shelton|[Verse 1]\nShe lik...|Doin' What She Likes|2013-03-26|\n|Billy Currington|[Verse 1]\nI don't...|     I Got A Feelin'|2011-01-01|\n|   Blake Shelton|[Verse 1]\nGirl, I...|           Honey Bee|2011-07-11|\n|     Josh Turner|[Verse 1]\nBaby wh...|Why Don't We Just...|      2010|\n|      David Nail|[Verse 1]\nShe's a...|  Whatever She's Got|2013-01-01|\n|  Brett Eldredge|[Verse 1]\nWell I ...|   Beat of the Music|2013-08-06|\n|Billy Currington|[Verse 1-Billy Cu...|            Hey Girl|2013-01-01|\n| Scotty McCreery|[Verse 1]\nGirl, y...|     See You Tonight|2013-01-01|\n|     Chris Young|[Verse 1]\nThe blu...|                 You|2011-07-11|\n|  Brett Eldredge|[Verse 1]\nGirl yo...|            Don't Ya|2013-08-06|\n|     Joe Nichols|Might be the way ...|I Can't Take My E...|2011-01-01|\n| Frankie Ballard|Every time you ki...|  Sunshine & Whiskey|2014-04-03|\n|   Blake Shelton|[Click here to re...|   Mine Would Be You|2013-03-26|\n|    Shania Twain|[Intro]\nWhen I fi...|You're Still The One|      1997|\n|  Brett Eldredge|[Verse 1]\nIf I co...|          Mean to Me|2013-08-06|\n|     Josh Turner|[Verse 1]\nBaby lo...|            Your Man|      2006|\n|     Casey James|Girl the way you'...|Love The Way You ...|2012-03-19|\n|   Kenny Chesney|[Verse 1]\nShe hit...|  The Woman with You|2004-02-02|\n|   Blake Shelton|[ “My Eyes”]\n\n[Ve...|My Eyes (feat. Gw...|2013-03-26|\n+----------------+--------------------+--------------------+----------+\nonly showing top 20 rows\n\n"
    }
   ],
   "source": [
    "spark = SparkSession\\\n",
    "  .builder \\\n",
    "  .appName(\"PythonWordCount\") \\\n",
    "  .getOrCreate()\n",
    "\n",
    "\n",
    "# Read CSV from OVHcloud Object Storage https://github.com/walkerkq/musiclyrics\n",
    "data = spark.read.format('json').options(header='true', inferSchema='true') \\\n",
    "  .load('country_romance_lyrics.json', sep=\",\", header=True) \\\n",
    "\n",
    "print('############ JSON extract:')\n",
    "data.show()\n"
   ]
  },
  {
   "cell_type": "code",
   "execution_count": 98,
   "metadata": {},
   "outputs": [],
   "source": [
    "# Tokenize DataFrame\n",
    "data = Tokenizer(inputCol=\"Lyrics\", outputCol=\"Words\")"
   ]
  },
  {
   "cell_type": "code",
   "execution_count": 99,
   "metadata": {},
   "outputs": [
    {
     "output_type": "error",
     "ename": "AttributeError",
     "evalue": "'Tokenizer' object has no attribute '_jdf'",
     "traceback": [
      "\u001b[0;31m---------------------------------------------------------------------------\u001b[0m",
      "\u001b[0;31mAttributeError\u001b[0m                            Traceback (most recent call last)",
      "\u001b[0;32m<ipython-input-99-4eba12e6882f>\u001b[0m in \u001b[0;36m<module>\u001b[0;34m\u001b[0m\n\u001b[1;32m      1\u001b[0m \u001b[0;31m# Transform DataFrame\u001b[0m\u001b[0;34m\u001b[0m\u001b[0;34m\u001b[0m\u001b[0;34m\u001b[0m\u001b[0m\n\u001b[0;32m----> 2\u001b[0;31m \u001b[0mreviewed\u001b[0m \u001b[0;34m=\u001b[0m \u001b[0mdata\u001b[0m\u001b[0;34m.\u001b[0m\u001b[0mtransform\u001b[0m\u001b[0;34m(\u001b[0m\u001b[0mdata\u001b[0m\u001b[0;34m)\u001b[0m\u001b[0;34m\u001b[0m\u001b[0;34m\u001b[0m\u001b[0m\n\u001b[0m\u001b[1;32m      3\u001b[0m \u001b[0mreviewed\u001b[0m\u001b[0;34m.\u001b[0m\u001b[0mshow\u001b[0m\u001b[0;34m(\u001b[0m\u001b[0;34m)\u001b[0m\u001b[0;34m\u001b[0m\u001b[0;34m\u001b[0m\u001b[0m\n",
      "\u001b[0;32m/usr/local/Caskroom/miniconda/base/lib/python3.7/site-packages/pyspark/ml/base.py\u001b[0m in \u001b[0;36mtransform\u001b[0;34m(self, dataset, params)\u001b[0m\n\u001b[1;32m    171\u001b[0m                 \u001b[0;32mreturn\u001b[0m \u001b[0mself\u001b[0m\u001b[0;34m.\u001b[0m\u001b[0mcopy\u001b[0m\u001b[0;34m(\u001b[0m\u001b[0mparams\u001b[0m\u001b[0;34m)\u001b[0m\u001b[0;34m.\u001b[0m\u001b[0m_transform\u001b[0m\u001b[0;34m(\u001b[0m\u001b[0mdataset\u001b[0m\u001b[0;34m)\u001b[0m\u001b[0;34m\u001b[0m\u001b[0;34m\u001b[0m\u001b[0m\n\u001b[1;32m    172\u001b[0m             \u001b[0;32melse\u001b[0m\u001b[0;34m:\u001b[0m\u001b[0;34m\u001b[0m\u001b[0;34m\u001b[0m\u001b[0m\n\u001b[0;32m--> 173\u001b[0;31m                 \u001b[0;32mreturn\u001b[0m \u001b[0mself\u001b[0m\u001b[0;34m.\u001b[0m\u001b[0m_transform\u001b[0m\u001b[0;34m(\u001b[0m\u001b[0mdataset\u001b[0m\u001b[0;34m)\u001b[0m\u001b[0;34m\u001b[0m\u001b[0;34m\u001b[0m\u001b[0m\n\u001b[0m\u001b[1;32m    174\u001b[0m         \u001b[0;32melse\u001b[0m\u001b[0;34m:\u001b[0m\u001b[0;34m\u001b[0m\u001b[0;34m\u001b[0m\u001b[0m\n\u001b[1;32m    175\u001b[0m             \u001b[0;32mraise\u001b[0m \u001b[0mValueError\u001b[0m\u001b[0;34m(\u001b[0m\u001b[0;34m\"Params must be a param map but got %s.\"\u001b[0m \u001b[0;34m%\u001b[0m \u001b[0mtype\u001b[0m\u001b[0;34m(\u001b[0m\u001b[0mparams\u001b[0m\u001b[0;34m)\u001b[0m\u001b[0;34m)\u001b[0m\u001b[0;34m\u001b[0m\u001b[0;34m\u001b[0m\u001b[0m\n",
      "\u001b[0;32m/usr/local/Caskroom/miniconda/base/lib/python3.7/site-packages/pyspark/ml/wrapper.py\u001b[0m in \u001b[0;36m_transform\u001b[0;34m(self, dataset)\u001b[0m\n\u001b[1;32m    310\u001b[0m     \u001b[0;32mdef\u001b[0m \u001b[0m_transform\u001b[0m\u001b[0;34m(\u001b[0m\u001b[0mself\u001b[0m\u001b[0;34m,\u001b[0m \u001b[0mdataset\u001b[0m\u001b[0;34m)\u001b[0m\u001b[0;34m:\u001b[0m\u001b[0;34m\u001b[0m\u001b[0;34m\u001b[0m\u001b[0m\n\u001b[1;32m    311\u001b[0m         \u001b[0mself\u001b[0m\u001b[0;34m.\u001b[0m\u001b[0m_transfer_params_to_java\u001b[0m\u001b[0;34m(\u001b[0m\u001b[0;34m)\u001b[0m\u001b[0;34m\u001b[0m\u001b[0;34m\u001b[0m\u001b[0m\n\u001b[0;32m--> 312\u001b[0;31m         \u001b[0;32mreturn\u001b[0m \u001b[0mDataFrame\u001b[0m\u001b[0;34m(\u001b[0m\u001b[0mself\u001b[0m\u001b[0;34m.\u001b[0m\u001b[0m_java_obj\u001b[0m\u001b[0;34m.\u001b[0m\u001b[0mtransform\u001b[0m\u001b[0;34m(\u001b[0m\u001b[0mdataset\u001b[0m\u001b[0;34m.\u001b[0m\u001b[0m_jdf\u001b[0m\u001b[0;34m)\u001b[0m\u001b[0;34m,\u001b[0m \u001b[0mdataset\u001b[0m\u001b[0;34m.\u001b[0m\u001b[0msql_ctx\u001b[0m\u001b[0;34m)\u001b[0m\u001b[0;34m\u001b[0m\u001b[0;34m\u001b[0m\u001b[0m\n\u001b[0m\u001b[1;32m    313\u001b[0m \u001b[0;34m\u001b[0m\u001b[0m\n\u001b[1;32m    314\u001b[0m \u001b[0;34m\u001b[0m\u001b[0m\n",
      "\u001b[0;31mAttributeError\u001b[0m: 'Tokenizer' object has no attribute '_jdf'"
     ]
    }
   ],
   "source": [
    "\n",
    "# Transform DataFrame\n",
    "reviewed = data.transform(data)\n",
    "reviewed.show()"
   ]
  },
  {
   "cell_type": "code",
   "execution_count": null,
   "metadata": {},
   "outputs": [],
   "source": []
  },
  {
   "cell_type": "code",
   "execution_count": 59,
   "metadata": {
    "tags": []
   },
   "outputs": [],
   "source": [
    "import pandas as pd\n"
   ]
  },
  {
   "cell_type": "code",
   "execution_count": 72,
   "metadata": {},
   "outputs": [],
   "source": [
    "df=pd.read_json ('country_romance_lyrics.json',)"
   ]
  },
  {
   "cell_type": "code",
   "execution_count": 73,
   "metadata": {},
   "outputs": [
    {
     "output_type": "execute_result",
     "data": {
      "text/plain": "                     Title            Artist        Year  \\\n0         Let Me Down Easy  Billy Currington  2010-01-01   \n1     Doin' What She Likes     Blake Shelton  2013-03-26   \n2          I Got A Feelin'  Billy Currington  2011-01-01   \n3                Honey Bee     Blake Shelton  2011-07-11   \n4  Why Don't We Just Dance       Josh Turner        2010   \n\n                                              Lyrics  \n0  [Verse 1]\\nThere's a little moonlight, dancing...  \n1  [Verse 1]\\nShe likes it when I call in sick to...  \n2  [Verse 1]\\nI don't want to rush this thing\\nI ...  \n3  [Verse 1]\\nGirl, I been thinking 'bout us\\nAnd...  \n4  [Verse 1]\\nBaby why don't we just turn that TV...  ",
      "text/html": "<div>\n<style scoped>\n    .dataframe tbody tr th:only-of-type {\n        vertical-align: middle;\n    }\n\n    .dataframe tbody tr th {\n        vertical-align: top;\n    }\n\n    .dataframe thead th {\n        text-align: right;\n    }\n</style>\n<table border=\"1\" class=\"dataframe\">\n  <thead>\n    <tr style=\"text-align: right;\">\n      <th></th>\n      <th>Title</th>\n      <th>Artist</th>\n      <th>Year</th>\n      <th>Lyrics</th>\n    </tr>\n  </thead>\n  <tbody>\n    <tr>\n      <th>0</th>\n      <td>Let Me Down Easy</td>\n      <td>Billy Currington</td>\n      <td>2010-01-01</td>\n      <td>[Verse 1]\\nThere's a little moonlight, dancing...</td>\n    </tr>\n    <tr>\n      <th>1</th>\n      <td>Doin' What She Likes</td>\n      <td>Blake Shelton</td>\n      <td>2013-03-26</td>\n      <td>[Verse 1]\\nShe likes it when I call in sick to...</td>\n    </tr>\n    <tr>\n      <th>2</th>\n      <td>I Got A Feelin'</td>\n      <td>Billy Currington</td>\n      <td>2011-01-01</td>\n      <td>[Verse 1]\\nI don't want to rush this thing\\nI ...</td>\n    </tr>\n    <tr>\n      <th>3</th>\n      <td>Honey Bee</td>\n      <td>Blake Shelton</td>\n      <td>2011-07-11</td>\n      <td>[Verse 1]\\nGirl, I been thinking 'bout us\\nAnd...</td>\n    </tr>\n    <tr>\n      <th>4</th>\n      <td>Why Don't We Just Dance</td>\n      <td>Josh Turner</td>\n      <td>2010</td>\n      <td>[Verse 1]\\nBaby why don't we just turn that TV...</td>\n    </tr>\n  </tbody>\n</table>\n</div>"
     },
     "metadata": {},
     "execution_count": 73
    }
   ],
   "source": [
    "df.Lyrics=df.Lyrics.replace('\\n', ' ')\n",
    "df.head()"
   ]
  },
  {
   "cell_type": "code",
   "execution_count": 78,
   "metadata": {
    "tags": []
   },
   "outputs": [
    {
     "output_type": "stream",
     "name": "stdout",
     "text": "Collecting nltk\n\u001b[?25l  Downloading https://files.pythonhosted.org/packages/92/75/ce35194d8e3022203cca0d2f896dbb88689f9b3fce8e9f9cff942913519d/nltk-3.5.zip (1.4MB)\n\u001b[K     |████████████████████████████████| 1.4MB 2.7MB/s \n\u001b[?25hRequirement already satisfied: click in /usr/local/Caskroom/miniconda/base/lib/python3.7/site-packages (from nltk) (7.0)\nRequirement already satisfied: joblib in /usr/local/Caskroom/miniconda/base/lib/python3.7/site-packages (from nltk) (0.13.2)\nCollecting regex (from nltk)\n\u001b[?25l  Downloading https://files.pythonhosted.org/packages/09/c3/ddaa87500f31ed86290e3d014c0302a51fde28d7139eda0b5f33733726db/regex-2020.7.14.tar.gz (690kB)\n\u001b[K     |████████████████████████████████| 696kB 6.8MB/s \n\u001b[?25hRequirement already satisfied: tqdm in /usr/local/Caskroom/miniconda/base/lib/python3.7/site-packages (from nltk) (4.36.1)\nBuilding wheels for collected packages: nltk, regex\n  Building wheel for nltk (setup.py) ... \u001b[?25ldone\n\u001b[?25h  Created wheel for nltk: filename=nltk-3.5-cp37-none-any.whl size=1434674 sha256=17a9ec152c56c204c62cd74d7dcc2e85376bb63c86d54f88fdac836dbca99a43\n  Stored in directory: /Users/sherirosalia/Library/Caches/pip/wheels/ae/8c/3f/b1fe0ba04555b08b57ab52ab7f86023639a526d8bc8d384306\n  Building wheel for regex (setup.py) ... \u001b[?25ldone\n\u001b[?25h  Created wheel for regex: filename=regex-2020.7.14-cp37-cp37m-macosx_10_9_x86_64.whl size=285106 sha256=593d9407adaced8067ea92b88c1a6b4a6f90e23d642ae45b7a0b931e81d2d2ba\n  Stored in directory: /Users/sherirosalia/Library/Caches/pip/wheels/53/55/dc/e17fa4568958f4c53be34b65e474a1327b64641f65df379ec3\nSuccessfully built nltk regex\nInstalling collected packages: regex, nltk\nSuccessfully installed nltk-3.5 regex-2020.7.14\nNote: you may need to restart the kernel to use updated packages.\n"
    }
   ],
   "source": [
    "%pip install nltk"
   ]
  },
  {
   "cell_type": "code",
   "execution_count": 81,
   "metadata": {},
   "outputs": [],
   "source": [
    "# Import stopwords with nltk.\n",
    "import nltk\n"
   ]
  },
  {
   "cell_type": "code",
   "execution_count": 82,
   "metadata": {},
   "outputs": [],
   "source": [
    "from nltk.corpus import stopwords\n"
   ]
  },
  {
   "cell_type": "code",
   "execution_count": 84,
   "metadata": {
    "tags": []
   },
   "outputs": [
    {
     "output_type": "stream",
     "name": "stdout",
     "text": "showing info https://raw.githubusercontent.com/nltk/nltk_data/gh-pages/index.xml\n"
    },
    {
     "output_type": "execute_result",
     "data": {
      "text/plain": "True"
     },
     "metadata": {},
     "execution_count": 84
    }
   ],
   "source": [
    "nltk.download()"
   ]
  },
  {
   "cell_type": "code",
   "execution_count": 100,
   "metadata": {},
   "outputs": [],
   "source": [
    "stop = stopwords.words('english')"
   ]
  },
  {
   "cell_type": "code",
   "execution_count": 101,
   "metadata": {},
   "outputs": [
    {
     "output_type": "execute_result",
     "data": {
      "text/plain": "0    [Verse 1] There's little moonlight, dancing sa...\n1    [Verse 1] She likes I call sick work Spend who...\n2    [Verse 1] I want rush thing I want jump gun I ...\n3    [Verse 1] Girl, I thinking 'bout us And know I...\n4    [Verse 1] Baby turn TV off? Three hundred fift...\nName: Lyrics, dtype: object"
     },
     "metadata": {},
     "execution_count": 101
    }
   ],
   "source": [
    "df['Lyrics'] = df['Lyrics'].apply(lambda x: ' '.join([word for word in x.split() if word not in (stop)]))\n",
    "df.Lyrics.head()"
   ]
  },
  {
   "cell_type": "code",
   "execution_count": 102,
   "metadata": {},
   "outputs": [],
   "source": [
    "df.Lyrics.to_csv(\n",
    "    'country.csv', index=True\n",
    ")"
   ]
  },
  {
   "cell_type": "code",
   "execution_count": 46,
   "metadata": {
    "tags": []
   },
   "outputs": [
    {
     "output_type": "stream",
     "name": "stdout",
     "text": "+----+-----+\n|word|count|\n+----+-----+\n| the|49897|\n|  to|26517|\n| and|26413|\n|  of|23182|\n|   a|21654|\n|  in|16490|\n|   I|13719|\n|   -|12817|\n|that|10831|\n|   —|10285|\n| you|10140|\n|with| 7642|\n| for| 7423|\n|  on| 7022|\n|  he| 6687|\n|  is| 6337|\n| was| 6253|\n|  it| 6179|\n|  my| 5825|\n| his| 5692|\n+----+-----+\nonly showing top 20 rows\n\n"
    }
   ],
   "source": [
    "data.withColumn('word', f.explode(f.split(f.col('Lyrics'), ' '))) \\\n",
    "  .groupBy('word') \\\n",
    "  .count() \\\n",
    "  .sort('count', ascending=False).show()"
   ]
  },
  {
   "cell_type": "code",
   "execution_count": 89,
   "metadata": {},
   "outputs": [],
   "source": [
    "from pyspark.ml.feature import Tokenizer, RegexTokenizer\n",
    "from pyspark.sql.functions import col, udf\n",
    "from pyspark.sql.types import IntegerType"
   ]
  },
  {
   "cell_type": "code",
   "execution_count": 90,
   "metadata": {
    "tags": []
   },
   "outputs": [
    {
     "output_type": "stream",
     "name": "stdout",
     "text": "+--------------------+\n|              Lyrics|\n+--------------------+\n|[Verse 1]\nThere's...|\n|[Verse 1]\nThere's...|\n|[Verse 1]\nThere's...|\n|[Verse 1]\nThere's...|\n|[Verse 1]\nThere's...|\n|[Verse 1]\nThere's...|\n|[Verse 1]\nThere's...|\n|[Verse 1]\nThere's...|\n|[Verse 1]\nThere's...|\n|[Verse 1]\nThere's...|\n|[Verse 1]\nThere's...|\n|[Verse 1]\nThere's...|\n|[Verse 1]\nThere's...|\n|[Verse 1]\nThere's...|\n|[Verse 1]\nThere's...|\n|[Verse 1]\nThere's...|\n|[Verse 1]\nThere's...|\n|[Verse 1]\nThere's...|\n|[Verse 1]\nThere's...|\n|[Verse 1]\nThere's...|\n+--------------------+\nonly showing top 20 rows\n\n"
    }
   ],
   "source": [
    "text_col = 'Lyrics'\n",
    "review_text = data.select(text_col).filter(f.col(text_col).isNotNull())\n",
    "review_text.show()"
   ]
  },
  {
   "cell_type": "code",
   "execution_count": 91,
   "metadata": {
    "tags": []
   },
   "outputs": [],
   "source": [
    "data=data.select(\"Lyrics\", f.regexp_replace(f.col(\"Lyrics\"), \"[\\[Verse 1]#,]\", \"\").alias(\"replaced\"))"
   ]
  },
  {
   "cell_type": "code",
   "execution_count": 92,
   "metadata": {
    "tags": []
   },
   "outputs": [
    {
     "output_type": "execute_result",
     "data": {
      "text/plain": "Row(Artist='Billy Currington', Lyrics=\"[Verse 1]\\nThere's a little moonlight, dancing on the sand\\nThere's a warm breeze blowing by the ocean as you're taking my hand\\nYou need to know where I'm standing now\\nThat I'm right on the edge of giving in to ya\\nBaby it's a long way down\\n\\n[Chorus]\\nIf I fall, can ya let me down easy?\\nIf I leave my heart with you tonight\\nWill you promise me that you're going to treat it right?\\nI'm barely hanging on\\nIf I fall, can you let me down easy?\\n\\n[Verse 2]\\nThe scent of your perfume, floating in the air\\nLooking like an angel, lying on a blanket with a halo of hair\\nAnd those lips, look to good to be true\\nOnce I taste that kiss, I know what'll happen\\nI'll be at the mercy of you\\n\\n[Chorus]\\nIf I fall, can ya let me down easy?\\nIf I leave my heart with you tonight\\nWill you promise me that you're going to treat it right?\\nI'm barely hanging on\\nIf I fall, can you let me down easy?\\n\\nIf I fall, can ya let me down easy?\\nIf I leave my heart with you tonight\\nWill you promise me that you're going to treat it right?\\nI'm barely hanging on\\nIf I fall, can you let me down easy?\\n\\n[Outro]\\nLet me down easy babe\\nMmmm\", Title='Let Me Down Easy', Year='2010-01-01', word='[Verse', words=['[verse', '1]', \"there's\", 'a', 'little', 'moonlight,', 'dancing', 'on', 'the', 'sand', \"there's\", 'a', 'warm', 'breeze', 'blowing', 'by', 'the', 'ocean', 'as', \"you're\", 'taking', 'my', 'hand', 'you', 'need', 'to', 'know', 'where', \"i'm\", 'standing', 'now', 'that', \"i'm\", 'right', 'on', 'the', 'edge', 'of', 'giving', 'in', 'to', 'ya', 'baby', \"it's\", 'a', 'long', 'way', 'down', '', '[chorus]', 'if', 'i', 'fall,', 'can', 'ya', 'let', 'me', 'down', 'easy?', 'if', 'i', 'leave', 'my', 'heart', 'with', 'you', 'tonight', 'will', 'you', 'promise', 'me', 'that', \"you're\", 'going', 'to', 'treat', 'it', 'right?', \"i'm\", 'barely', 'hanging', 'on', 'if', 'i', 'fall,', 'can', 'you', 'let', 'me', 'down', 'easy?', '', '[verse', '2]', 'the', 'scent', 'of', 'your', 'perfume,', 'floating', 'in', 'the', 'air', 'looking', 'like', 'an', 'angel,', 'lying', 'on', 'a', 'blanket', 'with', 'a', 'halo', 'of', 'hair', 'and', 'those', 'lips,', 'look', 'to', 'good', 'to', 'be', 'true', 'once', 'i', 'taste', 'that', 'kiss,', 'i', 'know', \"what'll\", 'happen', \"i'll\", 'be', 'at', 'the', 'mercy', 'of', 'you', '', '[chorus]', 'if', 'i', 'fall,', 'can', 'ya', 'let', 'me', 'down', 'easy?', 'if', 'i', 'leave', 'my', 'heart', 'with', 'you', 'tonight', 'will', 'you', 'promise', 'me', 'that', \"you're\", 'going', 'to', 'treat', 'it', 'right?', \"i'm\", 'barely', 'hanging', 'on', 'if', 'i', 'fall,', 'can', 'you', 'let', 'me', 'down', 'easy?', '', 'if', 'i', 'fall,', 'can', 'ya', 'let', 'me', 'down', 'easy?', 'if', 'i', 'leave', 'my', 'heart', 'with', 'you', 'tonight', 'will', 'you', 'promise', 'me', 'that', \"you're\", 'going', 'to', 'treat', 'it', 'right?', \"i'm\", 'barely', 'hanging', 'on', 'if', 'i', 'fall,', 'can', 'you', 'let', 'me', 'down', 'easy?', '', '[outro]', 'let', 'me', 'down', 'easy', 'babe', 'mmmm'])"
     },
     "metadata": {},
     "execution_count": 92
    }
   ],
   "source": [
    "tokenized.head()"
   ]
  },
  {
   "cell_type": "code",
   "execution_count": 93,
   "metadata": {},
   "outputs": [],
   "source": [
    "tokenizer = Tokenizer(inputCol=\"words\", outputCol=\"words_token\")\n"
   ]
  },
  {
   "cell_type": "code",
   "execution_count": 94,
   "metadata": {},
   "outputs": [],
   "source": [
    "from pyspark.ml.feature import Tokenizer, StopWordsRemover\n",
    "\n"
   ]
  },
  {
   "cell_type": "code",
   "execution_count": null,
   "metadata": {},
   "outputs": [],
   "source": []
  }
 ]
}